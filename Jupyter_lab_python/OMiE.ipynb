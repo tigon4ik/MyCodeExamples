{
 "cells": [
  {
   "cell_type": "code",
   "execution_count": 1,
   "metadata": {},
   "outputs": [],
   "source": [
    "import numpy as np\n",
    "\n",
    "class SimplexMethod():\n",
    "    def __init__(self, func_coefs, table):\n",
    "        self.table = np.vstack((\n",
    "            np.hstack((table, np.eye(table.shape[0]))),\n",
    "            np.hstack((-func_coefs, np.zeros(table.shape[0])))\n",
    "        ))\n",
    "        \n",
    "    def step(self):\n",
    "        coefs = np.where(self.table[-1]<0, np.abs(self.table[-1]), -np.inf)\n",
    "        q = np.argmax(coefs)\n",
    "        B = self.table[:-1, 0]\n",
    "        tmp = B/np.where(self.table[:-1, q]!=0, self.table[:-1, q], np.inf)\n",
    "        tmp = np.where(tmp>0, tmp, np.inf)\n",
    "        #print(tmp)\n",
    "        p = np.argmin(tmp)\n",
    "        #print(p)\n",
    "        major_elem = self.table[p, q]\n",
    "        #print(major_elem)\n",
    "        new_tb = np.zeros_like(self.table)\n",
    "        new_tb[p] = self.table[p]/major_elem\n",
    "        for i in range(new_tb.shape[0]):\n",
    "            if i == p:\n",
    "                continue\n",
    "            new_tb[i] = self.table[i]-self.table[i, q]*new_tb[p]\n",
    "        self.table = new_tb\n",
    "        \n",
    "    def is_negative_coefs(self):\n",
    "        if np.any(self.table[-1]<0):\n",
    "            return True\n",
    "    \n",
    "    def get_table(self):\n",
    "        return self.table\n",
    "    \n",
    "    def get_answer(self):\n",
    "        x = np.zeros(self.table.shape[1]-1)\n",
    "        for i, vec in enumerate(self.table.T[1:]):\n",
    "            if vec[-1]==0:\n",
    "                x[i] = self.table[np.where(vec==1)[0], 0]\n",
    "        return x"
   ]
  },
  {
   "cell_type": "code",
   "execution_count": 2,
   "metadata": {},
   "outputs": [],
   "source": [
    "table = np.array([\n",
    "    [24, 2, 4],\n",
    "    [40, 2, 8],\n",
    "    [40, 4, 4]\n",
    "], dtype=np.float64)\n",
    "\n",
    "func_coefs = np.array([-24 , 0, 1], dtype=np.float64)\n",
    "method = SimplexMethod(func_coefs, table)"
   ]
  },
  {
   "cell_type": "code",
   "execution_count": 3,
   "metadata": {},
   "outputs": [
    {
     "data": {
      "text/plain": [
       "array([[24.,  2.,  4.,  1.,  0.,  0.],\n",
       "       [40.,  2.,  8.,  0.,  1.,  0.],\n",
       "       [40.,  4.,  4.,  0.,  0.,  1.],\n",
       "       [24., -0., -1.,  0.,  0.,  0.]])"
      ]
     },
     "execution_count": 3,
     "metadata": {},
     "output_type": "execute_result"
    }
   ],
   "source": [
    "method.get_table()"
   ]
  },
  {
   "cell_type": "code",
   "execution_count": 4,
   "metadata": {},
   "outputs": [
    {
     "name": "stdout",
     "output_type": "stream",
     "text": [
      "input data:\n",
      "24.0 >= 2.0*x1 + 4.0*x2\n",
      "40.0 >= 2.0*x1 + 8.0*x2\n",
      "40.0 >= 4.0*x1 + 4.0*x2\n",
      "z = -24.0 + 0.0*x1 + 1.0*x2 -> max\n"
     ]
    }
   ],
   "source": [
    "print('input data:')\n",
    "for i in table:\n",
    "    print('{} >= {}*x1 + {}*x2'.format(*i))\n",
    "print('z = {} + {}*x1 + {}*x2 -> max'.format(*func_coefs))"
   ]
  },
  {
   "cell_type": "code",
   "execution_count": 5,
   "metadata": {},
   "outputs": [
    {
     "name": "stdout",
     "output_type": "stream",
     "text": [
      "step:\n",
      "[[ 4.     1.     0.     1.    -0.5    0.   ]\n",
      " [ 5.     0.25   1.     0.     0.125  0.   ]\n",
      " [20.     3.     0.     0.    -0.5    1.   ]\n",
      " [29.     0.25   0.     0.     0.125  0.   ]]\n",
      "\n"
     ]
    }
   ],
   "source": [
    "while(method.is_negative_coefs()):\n",
    "    method.step()\n",
    "    print('step:')\n",
    "    print(method.table)\n",
    "    print()"
   ]
  },
  {
   "cell_type": "code",
   "execution_count": 6,
   "metadata": {},
   "outputs": [
    {
     "name": "stdout",
     "output_type": "stream",
     "text": [
      "Output data:\n",
      "[ 4.   1.   0.   1.  -0.5  0. ]\n",
      "[5.    0.25  1.    0.    0.125 0.   ]\n",
      "[20.   3.   0.   0.  -0.5  1. ]\n",
      "[29.     0.25   0.     0.     0.125  0.   ]\n",
      "\n",
      "target func max: 29.0\n",
      "x = [ 0.  5.  4.  0. 20.]\n"
     ]
    }
   ],
   "source": [
    "tmp = method.get_table()\n",
    "print('Output data:')\n",
    "print(*tmp, sep='\\n')\n",
    "print('\\ntarget func max: {}'.format(tmp[-1, 0]))\n",
    "print('x = {}'.format(method.get_answer()))"
   ]
  },
  {
   "cell_type": "code",
   "execution_count": null,
   "metadata": {},
   "outputs": [],
   "source": []
  }
 ],
 "metadata": {
  "kernelspec": {
   "display_name": "Python 3",
   "language": "python",
   "name": "python3"
  },
  "language_info": {
   "codemirror_mode": {
    "name": "ipython",
    "version": 3
   },
   "file_extension": ".py",
   "mimetype": "text/x-python",
   "name": "python",
   "nbconvert_exporter": "python",
   "pygments_lexer": "ipython3",
   "version": "3.7.4"
  }
 },
 "nbformat": 4,
 "nbformat_minor": 4
}
