{
 "cells": [
  {
   "cell_type": "code",
   "execution_count": 157,
   "metadata": {},
   "outputs": [],
   "source": [
    "import numpy as np\n",
    "import scipy as sc\n",
    "import matplotlib.pyplot as plt\n",
    "from scipy.integrate import quad\n",
    "from statsmodels.distributions.empirical_distribution import ECDF"
   ]
  },
  {
   "cell_type": "code",
   "execution_count": 352,
   "metadata": {},
   "outputs": [],
   "source": [
    "n=250\n",
    "bins=int(np.sqrt(n)/3)\n",
    "step=1/bins\n",
    "A=0\n",
    "B=2"
   ]
  },
  {
   "cell_type": "code",
   "execution_count": 353,
   "metadata": {},
   "outputs": [],
   "source": [
    "def f(x, a, b):\n",
    "    if x>=a and x<=b:\n",
    "        return 1/(b-a)\n",
    "    else:\n",
    "        return 0"
   ]
  },
  {
   "cell_type": "code",
   "execution_count": 381,
   "metadata": {},
   "outputs": [],
   "source": [
    "D_arr=np.array([])\n",
    "for i in range(0, 10000):\n",
    "    _uniform=np.random.uniform(A, B, n)\n",
    "    _hist, _bin_edges=(np.histogram(_uniform, bins))\n",
    "    _hist_normed=_hist/(n/bins)/(B-A)\n",
    "    result=np.array([])\n",
    "    squares=np.array([])\n",
    "    #for i in np.linspace(A, B-step, bins):\n",
    "    for i in range(0, 5):\n",
    "        #print(np.around(i, decimals=1))\n",
    "        result = np.append(result, np.around((quad(f, A+i/bins, A+i/bins+step, args=(A, B)))[0],decimals=1))\n",
    "        squares = np.append(squares, _hist_normed[i]*(_bin_edges[i+1]-_bin_edges[i]))\n",
    "\n",
    "    result=np.abs(squares-result)\n",
    "    D=max(result)\n",
    "    D_arr=np.append(D_arr, D)"
   ]
  },
  {
   "cell_type": "code",
   "execution_count": 383,
   "metadata": {},
   "outputs": [
    {
     "name": "stdout",
     "output_type": "stream",
     "text": [
      "[0.15113645]\n",
      "[0.15862801]\n"
     ]
    },
    {
     "data": {
      "text/plain": [
       "(array([3.000e+00, 4.900e+01, 1.680e+02, 4.470e+02, 7.550e+02, 9.310e+02,\n",
       "        1.161e+03, 1.021e+03, 9.700e+02, 9.340e+02, 8.350e+02, 6.430e+02,\n",
       "        5.380e+02, 4.010e+02, 3.170e+02, 2.740e+02, 1.450e+02, 1.440e+02,\n",
       "        1.000e+02, 5.800e+01, 3.800e+01, 2.400e+01, 1.800e+01, 1.500e+01,\n",
       "        3.000e+00, 2.000e+00, 3.000e+00, 0.000e+00, 1.000e+00, 0.000e+00,\n",
       "        1.000e+00, 0.000e+00, 1.000e+00]),\n",
       " array([0.09705542, 0.10084528, 0.10463514, 0.10842501, 0.11221487,\n",
       "        0.11600474, 0.1197946 , 0.12358447, 0.12737433, 0.13116419,\n",
       "        0.13495406, 0.13874392, 0.14253379, 0.14632365, 0.15011352,\n",
       "        0.15390338, 0.15769324, 0.16148311, 0.16527297, 0.16906284,\n",
       "        0.1728527 , 0.17664257, 0.18043243, 0.18422229, 0.18801216,\n",
       "        0.19180202, 0.19559189, 0.19938175, 0.20317162, 0.20696148,\n",
       "        0.21075134, 0.21454121, 0.21833107, 0.22212094]),\n",
       " <a list of 33 Patch objects>)"
      ]
     },
     "execution_count": 383,
     "metadata": {},
     "output_type": "execute_result"
    },
    {
     "data": {
      "image/png": "[encoded data removed]",
      "text/plain": [
       "<Figure size 432x288 with 1 Axes>"
      ]
     },
     "metadata": {
      "needs_background": "light"
     },
     "output_type": "display_data"
    }
   ],
   "source": [
    "#D=max(result)\n",
    "#print(D)\n",
    "#print(result)\n",
    "ecdfD=ECDF(D_arr)\n",
    "#plt.plot(ecdfD.x, ecdfD.y, '.')\n",
    "quan09=(ecdfD.x[abs(ecdfD.y-0.90)<=0.0000001])\n",
    "quan095=(ecdfD.x[abs(ecdfD.y-0.95)<=0.0000001])\n",
    "print(quan09)\n",
    "print(quan095)\n",
    "plt.hist(D_arr, int(np.sqrt(len(D_arr))/3), rwidth=0.7, log=True)"
   ]
  },
  {
   "cell_type": "code",
   "execution_count": 389,
   "metadata": {},
   "outputs": [
    {
     "name": "stderr",
     "output_type": "stream",
     "text": [
      "/usr/local/lib/python3.6/dist-packages/ipykernel_launcher.py:2: RuntimeWarning: divide by zero encountered in log\n",
      "  \n"
     ]
    },
    {
     "data": {
      "text/plain": [
       "[<matplotlib.lines.Line2D at 0x7f9bd23c05c0>]"
      ]
     },
     "execution_count": 389,
     "metadata": {},
     "output_type": "execute_result"
    },
    {
     "data": {
      "image/png": "[encoded data removed]",
      "text/plain": [
       "<Figure size 432x288 with 1 Axes>"
      ]
     },
     "metadata": {
      "needs_background": "light"
     },
     "output_type": "display_data"
    }
   ],
   "source": [
    "_prov = np.histogram(D_arr, int(np.sqrt(len(D_arr))/3))\n",
    "plt.plot(np.log(_prov[0]))\n",
    "#D_arr2=D_arr**2\n",
    "#D_arr2=np.exp(D_arr2)\n",
    "#plt.hist(D_arr2, int(np.sqrt(len(D_arr))/3), rwidth=0.7)"
   ]
  },
  {
   "cell_type": "code",
   "execution_count": 356,
   "metadata": {},
   "outputs": [
    {
     "name": "stdout",
     "output_type": "stream",
     "text": [
      "0.12147169616305892\n"
     ]
    }
   ],
   "source": [
    "_uniform=np.random.uniform(A, B, n)\n",
    "_hist, _bin_edges=(np.histogram(_uniform, bins))\n",
    "_hist_normed=_hist/(n/bins)/(B-A)\n",
    "result=np.array([])\n",
    "squares=np.array([])\n",
    "#for i in np.linspace(A, B-step, bins):\n",
    "    #print(np.around(i, decimals=1))\n",
    "#    result = np.append(result, np.around((quad(f, i, i+step, args=(A, B)))[0],decimals=1))\n",
    "#    squares = np.append(squares, _hist_normed[int(i*bins)]*(_bin_edges[int(i*bins)+1]-_bin_edges[int(i*bins)]))\n",
    "for i in range(0, 5):\n",
    "        #print(np.around(i, decimals=1))\n",
    "    result = np.append(result, np.around((quad(f, A+i/bins, A+i/bins+step, args=(A, B)))[0],decimals=1))\n",
    "    squares = np.append(squares, _hist_normed[i]*(_bin_edges[i+1]-_bin_edges[i]))\n",
    "\n",
    "result=np.abs(squares-result)\n",
    "D=max(result)\n",
    "print(D)"
   ]
  },
  {
   "cell_type": "code",
   "execution_count": 357,
   "metadata": {},
   "outputs": [
    {
     "name": "stdout",
     "output_type": "stream",
     "text": [
      "true\n"
     ]
    }
   ],
   "source": [
    "if D>quan09:\n",
    "    print(\"false\")\n",
    "else:\n",
    "    print(\"true\")"
   ]
  },
  {
   "cell_type": "code",
   "execution_count": 358,
   "metadata": {},
   "outputs": [
    {
     "name": "stdout",
     "output_type": "stream",
     "text": [
      "true\n"
     ]
    }
   ],
   "source": [
    "if D>quan095:\n",
    "    print(\"false\")\n",
    "else:\n",
    "    print(\"true\")"
   ]
  },
  {
   "cell_type": "code",
   "execution_count": 360,
   "metadata": {},
   "outputs": [
    {
     "data": {
      "image/png": "[encoded data removed]",
      "text/plain": [
       "<Figure size 432x288 with 1 Axes>"
      ]
     },
     "metadata": {
      "needs_background": "light"
     },
     "output_type": "display_data"
    }
   ],
   "source": [
    "#plt.plot(np.linspace(0, 1-step, bins), result, 'o')\n",
    "bin_centers=np.array([])\n",
    "for i in range(len(_bin_edges)-1):\n",
    "    bin_centers=np.append(bin_centers, (_bin_edges[i+1]+_bin_edges[i])/2)\n",
    "plt.bar(bin_centers, _hist_normed, width=(B-A)/bins-0.03)\n",
    "lin=np.linspace(A, B, 100)\n",
    "ff= [f(i, A, B) for i in lin]\n",
    "plt.plot(lin, ff, 'ro')\n",
    "plt.show()"
   ]
  },
  {
   "cell_type": "code",
   "execution_count": 330,
   "metadata": {},
   "outputs": [],
   "source": [
    "Ex=sum(_uniform)/n"
   ]
  },
  {
   "cell_type": "code",
   "execution_count": 331,
   "metadata": {},
   "outputs": [
    {
     "data": {
      "text/plain": [
       "0.48129392935940185"
      ]
     },
     "execution_count": 331,
     "metadata": {},
     "output_type": "execute_result"
    }
   ],
   "source": [
    "Ex"
   ]
  },
  {
   "cell_type": "code",
   "execution_count": null,
   "metadata": {},
   "outputs": [],
   "source": []
  }
 ],
 "metadata": {
  "kernelspec": {
   "display_name": "Python 3",
   "language": "python",
   "name": "python3"
  },
  "language_info": {
   "codemirror_mode": {
    "name": "ipython",
    "version": 3
   },
   "file_extension": ".py",
   "mimetype": "text/x-python",
   "name": "python",
   "nbconvert_exporter": "python",
   "pygments_lexer": "ipython3",
   "version": "3.6.5"
  }
 },
 "nbformat": 4,
 "nbformat_minor": 2
}
