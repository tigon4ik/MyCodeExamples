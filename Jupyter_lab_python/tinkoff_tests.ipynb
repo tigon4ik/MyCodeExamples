{
 "cells": [
  {
   "cell_type": "code",
   "execution_count": 161,
   "metadata": {},
   "outputs": [],
   "source": [
    "import numpy as np\n",
    "import pylab as plt"
   ]
  },
  {
   "cell_type": "code",
   "execution_count": 1,
   "metadata": {},
   "outputs": [
    {
     "name": "stdin",
     "output_type": "stream",
     "text": [
      " 3 6 6 10\n"
     ]
    }
   ],
   "source": [
    "# fintech test 1\n",
    "\n",
    "a, b, c, d = (map(int, input().split()))\n",
    "first_room = a*b\n",
    "second_room = c*d\n",
    "if first_room > second_room:\n",
    "    print(\"M\")\n",
    "elif first_room < second_room:\n",
    "    print(\"P\")\n",
    "else:\n",
    "    print(\"E\")    "
   ]
  },
  {
   "cell_type": "code",
   "execution_count": 4,
   "metadata": {},
   "outputs": [
    {
     "name": "stdin",
     "output_type": "stream",
     "text": [
      " ho-ho-ho my merry - merry\n"
     ]
    },
    {
     "name": "stdout",
     "output_type": "stream",
     "text": [
      "4\n"
     ]
    }
   ],
   "source": [
    "# fintech test 2\n",
    "\n",
    "print(len([i for i in input().split() if i != '-']))"
   ]
  },
  {
   "cell_type": "code",
   "execution_count": null,
   "metadata": {},
   "outputs": [],
   "source": [
    "# fintech test 3\n",
    "\n",
    "N = int(input())\n",
    "for i in range(N):\n",
    "    x, y = map(int, input().split())\n",
    "    "
   ]
  },
  {
   "cell_type": "code",
   "execution_count": 3,
   "metadata": {},
   "outputs": [
    {
     "name": "stdin",
     "output_type": "stream",
     "text": [
      " 6\n",
      " 6\n",
      " 1\n",
      " 0\n",
      " 1\n",
      " 1\n",
      " 0\n",
      " 1\n"
     ]
    }
   ],
   "source": [
    "# fintech test 4\n",
    "\n",
    "X = int(input())\n",
    "N = int(input())\n",
    "arr = []\n",
    "for i in range(N):\n",
    "    arr.append(int(input()))\n",
    "\n",
    "counts = 0\n",
    "for i in range(len(arr)):\n",
    "    if arr[i] == 1:\n",
    "        i += X\n",
    "        counts += 1"
   ]
  },
  {
   "cell_type": "code",
   "execution_count": 300,
   "metadata": {},
   "outputs": [],
   "source": [
    "def next_point(hull, points):\n",
    "    eps = 0.001\n",
    "    vecs = []\n",
    "    min_point = points[0]\n",
    "    min_angle_cos = -1;\n",
    "    for p in points:\n",
    "        vecs.append((p[0]-hull[-1][0], p[1]-hull[-1][1]))\n",
    "    for vec, p in zip(vecs, points):\n",
    "        if len(hull)==1:\n",
    "            tmp = (1, 0)\n",
    "        else:\n",
    "            tmp = (hull[-1][0]-hull[-2][0], hull[-1][1]-hull[-2][1])\n",
    "        xy = dot(vec, tmp)\n",
    "        xx = np.sqrt(dot(vec, vec))\n",
    "        yy = np.sqrt(dot(tmp, tmp))\n",
    "        if xx*yy == 0:\n",
    "            continue\n",
    "        cos_a = xy/(xx*yy)\n",
    "        #print(\"cos_a = {}, point = {}, curr = {}\".format(cos_a, p, hull[-1]))\n",
    "        if cos_a > min_angle_cos:\n",
    "            min_point = p\n",
    "            min_angle_cos = cos_a\n",
    "    \n",
    "    #if abs(min_angle_cos) < eps or \\\n",
    "    #    abs(min_angle_cos - 1) < eps or \\\n",
    "    #    abs(min_angle_cos - np.sqrt(2)/2) < eps:\n",
    "    return min_point\n",
    "    #else:\n",
    "    #    min_vec = (min_point[0] - hull[-1][0], min_point[1] - hull[-1][1])\n",
    "    #    dx = min_vec[0]/abs(min_vec[0])\n",
    "    #    dy = min_vec[1]/abs(min_vec[1])\n",
    "    #    #print(\"p = {}, dx = {}, dy = {}\".format(min_vec, dx, dy))\n",
    "    #    return (hull[-1][0] + dx, hull[-1][1] + dy)"
   ]
  },
  {
   "cell_type": "code",
   "execution_count": 236,
   "metadata": {},
   "outputs": [],
   "source": [
    "def dot(x, y):\n",
    "    return x[0]*y[0]+x[1]*y[1]"
   ]
  },
  {
   "cell_type": "code",
   "execution_count": 284,
   "metadata": {},
   "outputs": [
    {
     "name": "stdin",
     "output_type": "stream",
     "text": [
      " 10\n",
      " 1 1\n",
      " 1 2\n",
      " 4 5\n",
      " 9 0\n",
      " -1 -10\n",
      " 7 3\n",
      " 5 4\n",
      " -4 4\n",
      " 3 -2\n",
      " 1 -3\n"
     ]
    }
   ],
   "source": [
    "points_set = set()\n",
    "cur_points = set()\n",
    "\n",
    "\n",
    "N = int(input())\n",
    "for i in range(N):\n",
    "    x, y = map(int, input().split())\n",
    "    points_set.add((x, y))\n",
    "    cur_points.add((x, y))\n",
    "    points_set.add((x-1, y))\n",
    "    points_set.add((x+1, y))\n",
    "    points_set.add((x, y-1))\n",
    "    points_set.add((x, y+1))"
   ]
  },
  {
   "cell_type": "code",
   "execution_count": 301,
   "metadata": {},
   "outputs": [],
   "source": [
    "points = list(points_set)\n",
    "hull = []"
   ]
  },
  {
   "cell_type": "code",
   "execution_count": 302,
   "metadata": {},
   "outputs": [],
   "source": [
    "hull.append(min(points, key=lambda x: x[-1]))"
   ]
  },
  {
   "cell_type": "code",
   "execution_count": 303,
   "metadata": {},
   "outputs": [
    {
     "name": "stdout",
     "output_type": "stream",
     "text": [
      "iter 1\n",
      "nxt = (10, 0)\n",
      "iter 2\n",
      "nxt = (8, 3)\n",
      "iter 3\n",
      "nxt = (7, 4)\n",
      "iter 4\n",
      "nxt = (4, 6)\n",
      "iter 5\n",
      "nxt = (-4, 5)\n",
      "iter 6\n",
      "nxt = (-5, 4)\n",
      "iter 7\n",
      "nxt = (-2, -10)\n",
      "iter 8\n",
      "nxt = (-1, -11)\n"
     ]
    }
   ],
   "source": [
    "for i in range(len(points)):\n",
    "    print('iter {}'.format(i+1))\n",
    "    nxt = next_point(hull, points)\n",
    "    print(\"nxt = {}\".format(nxt))\n",
    "    if nxt in hull:\n",
    "        break\n",
    "    hull.append(nxt)\n",
    "hull.append(hull[0])"
   ]
  },
  {
   "cell_type": "code",
   "execution_count": 304,
   "metadata": {},
   "outputs": [
    {
     "data": {
      "text/plain": [
       "[(-1, -11),\n",
       " (10, 0),\n",
       " (8, 3),\n",
       " (7, 4),\n",
       " (4, 6),\n",
       " (-4, 5),\n",
       " (-5, 4),\n",
       " (-2, -10),\n",
       " (-1, -11)]"
      ]
     },
     "execution_count": 304,
     "metadata": {},
     "output_type": "execute_result"
    }
   ],
   "source": [
    "hull"
   ]
  },
  {
   "cell_type": "code",
   "execution_count": 305,
   "metadata": {},
   "outputs": [
    {
     "data": {
      "text/plain": [
       "[<matplotlib.lines.Line2D at 0x2896bae7348>]"
      ]
     },
     "execution_count": 305,
     "metadata": {},
     "output_type": "execute_result"
    },
    {
     "data": {
      "image/png": "[encoded data removed]",
      "text/plain": [
       "<Figure size 432x288 with 1 Axes>"
      ]
     },
     "metadata": {
      "needs_background": "light"
     },
     "output_type": "display_data"
    }
   ],
   "source": [
    "x = [i[0] for i in list(cur_points)]\n",
    "y = [i[1] for i in list(cur_points)]\n",
    "plt.plot(x, y, 'o')\n",
    "x = [i[0] for i in points]\n",
    "y = [i[1] for i in points]\n",
    "plt.plot(x, y, 'go', alpha=0.5)\n",
    "hx = [i[0] for i in hull]\n",
    "hy = [i[1] for i in hull]\n",
    "plt.plot(hx, hy, 'ro-')"
   ]
  },
  {
   "cell_type": "code",
   "execution_count": null,
   "metadata": {},
   "outputs": [],
   "source": []
  }
 ],
 "metadata": {
  "kernelspec": {
   "display_name": "Python 3",
   "language": "python",
   "name": "python3"
  },
  "language_info": {
   "codemirror_mode": {
    "name": "ipython",
    "version": 3
   },
   "file_extension": ".py",
   "mimetype": "text/x-python",
   "name": "python",
   "nbconvert_exporter": "python",
   "pygments_lexer": "ipython3",
   "version": "3.7.4"
  }
 },
 "nbformat": 4,
 "nbformat_minor": 4
}
