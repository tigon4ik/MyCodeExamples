{
 "cells": [
  {
   "cell_type": "code",
   "execution_count": 1,
   "metadata": {},
   "outputs": [],
   "source": [
    "from sklearn.linear_model import LogisticRegression\n",
    "from sklearn.metrics import roc_curve, roc_auc_score\n",
    "from sklearn.svm import SVC, LinearSVC\n",
    "import pandas as pd\n",
    "from matplotlib import pyplot as plt\n",
    "import numpy as np\n",
    "from sklearn.model_selection import train_test_split"
   ]
  },
  {
   "cell_type": "code",
   "execution_count": 2,
   "metadata": {},
   "outputs": [],
   "source": [
    "data = pd.read_csv('Downloads/credit_scoring_sample.csv')\n",
    "filtered_data = data[data[\"NumberOfTime30-59DaysPastDueNotWorse\"] < 90]\n",
    "filtered_data = filtered_data[filtered_data['NumberOfTime30-59DaysPastDueNotWorse'] < 90]\n",
    "filtered_data = filtered_data[filtered_data['NumberOfTimes90DaysLate'] < 90]\n",
    "filtered_data = filtered_data[filtered_data['DebtRatio'] < 10000]\n",
    "filtered_data = filtered_data[filtered_data['MonthlyIncome'] < 100000]\n",
    "X = filtered_data.fillna(data.median())\n",
    "y = X.pop('SeriousDlqin2yrs')"
   ]
  },
  {
   "cell_type": "code",
   "execution_count": 3,
   "metadata": {},
   "outputs": [],
   "source": [
    "X_train, X_test, y_train, y_test = train_test_split(X, y, train_size=100)"
   ]
  },
  {
   "cell_type": "code",
   "execution_count": null,
   "metadata": {},
   "outputs": [],
   "source": [
    "svc1 = SVC(kernel='poly', C=1000, gamma=1, degree=2, max_iter=-1)\n",
    "svc1.fit(X_train, y_train)\n",
    "svc1.score(X_test, y_test)"
   ]
  },
  {
   "cell_type": "code",
   "execution_count": 5,
   "metadata": {},
   "outputs": [
    {
     "name": "stdout",
     "output_type": "stream",
     "text": [
      "score=0.807637826505751\n",
      "auc=0.7376964675386379\n"
     ]
    },
    {
     "data": {
      "text/plain": [
       "[<matplotlib.lines.Line2D at 0x23dedc8b288>]"
      ]
     },
     "execution_count": 5,
     "metadata": {},
     "output_type": "execute_result"
    },
    {
     "data": {
      "image/png": "[encoded data removed]",
      "text/plain": [
       "<Figure size 432x288 with 1 Axes>"
      ]
     },
     "metadata": {
      "needs_background": "light"
     },
     "output_type": "display_data"
    }
   ],
   "source": [
    "svc2 = SVC(kernel='linear', C=1, gamma=1, max_iter=-1)\n",
    "svc2.fit(X_train, y_train)\n",
    "print('score={}'.format(svc2.score(X_test, y_test)))\n",
    "pred = svc2.decision_function(X_test)\n",
    "pred = pred/max(pred)\n",
    "fpr, tpr, _ = roc_curve(y_test, pred)\n",
    "auc = roc_auc_score(y_test, pred)\n",
    "print('auc={}'.format(auc))\n",
    "plt.plot(fpr, tpr)"
   ]
  },
  {
   "cell_type": "code",
   "execution_count": null,
   "metadata": {},
   "outputs": [],
   "source": [
    "#pred = svc1.predict_proba(X_test)[:, 1]\n",
    "pred = svc1.decision_function(X_test)\n",
    "pred = pred/max(pred)\n",
    "fpr, tpr, _ = roc_curve(y_test, pred)\n",
    "auc = roc_auc_score(y_test, pred)\n",
    "print(auc)\n",
    "plt.plot(fpr, tpr)"
   ]
  },
  {
   "cell_type": "code",
   "execution_count": null,
   "metadata": {},
   "outputs": [],
   "source": [
    "#pred = svc1.predict_proba(X_test)[:, 1]\n",
    "pred = svc2.decision_function(X_test)\n",
    "pred = pred/max(pred)\n",
    "fpr, tpr, _ = roc_curve(y_test, pred)\n",
    "auc = roc_auc_score(y_test, pred)\n",
    "print(auc)\n",
    "plt.plot(fpr, tpr)"
   ]
  },
  {
   "cell_type": "code",
   "execution_count": null,
   "metadata": {},
   "outputs": [],
   "source": []
  }
 ],
 "metadata": {
  "kernelspec": {
   "display_name": "Python 3",
   "language": "python",
   "name": "python3"
  },
  "language_info": {
   "codemirror_mode": {
    "name": "ipython",
    "version": 3
   },
   "file_extension": ".py",
   "mimetype": "text/x-python",
   "name": "python",
   "nbconvert_exporter": "python",
   "pygments_lexer": "ipython3",
   "version": "3.7.4"
  }
 },
 "nbformat": 4,
 "nbformat_minor": 4
}
